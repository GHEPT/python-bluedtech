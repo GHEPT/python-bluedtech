{
  "nbformat": 4,
  "nbformat_minor": 0,
  "metadata": {
    "colab": {
      "name": "Aula04_CodeLab-IntroPython.ipynb",
      "provenance": [],
      "authorship_tag": "ABX9TyNA9NBp/iDkcIToDbgHdLiU",
      "include_colab_link": true
    },
    "kernelspec": {
      "name": "python3",
      "display_name": "Python 3"
    },
    "language_info": {
      "name": "python"
    }
  },
  "cells": [
    {
      "cell_type": "markdown",
      "metadata": {
        "id": "view-in-github",
        "colab_type": "text"
      },
      "source": [
        "<a href=\"https://colab.research.google.com/github/GHEPT/python-bluedtech/blob/main/Aula04_CodeLab_IntroPython.ipynb\" target=\"_parent\"><img src=\"https://colab.research.google.com/assets/colab-badge.svg\" alt=\"Open In Colab\"/></a>"
      ]
    },
    {
      "cell_type": "code",
      "metadata": {
        "colab": {
          "base_uri": "https://localhost:8080/"
        },
        "id": "9qxnWi8K2hQ2",
        "outputId": "2f1241e5-4302-4ede-9c1d-3991617546ed"
      },
      "source": [
        "print(\"Hello, World\")"
      ],
      "execution_count": null,
      "outputs": [
        {
          "output_type": "stream",
          "text": [
            "Hello, World\n"
          ],
          "name": "stdout"
        }
      ]
    },
    {
      "cell_type": "markdown",
      "metadata": {
        "id": "YRiOn2Yl33Xh"
      },
      "source": [
        "#01 Aula de Python"
      ]
    },
    {
      "cell_type": "code",
      "metadata": {
        "colab": {
          "base_uri": "https://localhost:8080/"
        },
        "id": "AQGsJGKOvqDp",
        "outputId": "cfd7305b-5d54-4396-e50d-dcc42fe2a837"
      },
      "source": [
        "print('Olá, mundo! Esse é o meu primeiro programa')"
      ],
      "execution_count": 1,
      "outputs": [
        {
          "output_type": "stream",
          "text": [
            "Olá, mundo!\n"
          ],
          "name": "stdout"
        }
      ]
    },
    {
      "cell_type": "code",
      "metadata": {
        "colab": {
          "base_uri": "https://localhost:8080/"
        },
        "id": "SdpMChTMv55D",
        "outputId": "cdca4a19-a68c-4f0e-f7b2-9e7b5a9a71bb"
      },
      "source": [
        "print('Nome: Eduardo Teodoro')\n",
        "print('Endereço: Rua dos Beija-flores, 501 - Mogi Mirim - SP')\n",
        "print('CEP: 13804-808')"
      ],
      "execution_count": 2,
      "outputs": [
        {
          "output_type": "stream",
          "text": [
            "Nome: Eduardo Teodoro\n",
            "Endereço: Rua dos Beija-flores, 501 - Mogi Mirim - SP\n",
            "CEP: 13804-808\n"
          ],
          "name": "stdout"
        }
      ]
    },
    {
      "cell_type": "code",
      "metadata": {
        "colab": {
          "base_uri": "https://localhost:8080/"
        },
        "id": "o4trB7JbwPNR",
        "outputId": "74e953d1-a3df-4383-cf67-7a03145394d1"
      },
      "source": [
        "nome = input('Digite o seu nome: ')\n",
        "print(f'Olá, {nome}! Seja bem vindo ao fantástico mundo da programação')"
      ],
      "execution_count": 3,
      "outputs": [
        {
          "output_type": "stream",
          "text": [
            "Digite o seu nome: Eduardo\n",
            "Olá, Eduardo! Seja bem vindo ao fantástico mundo da programação\n"
          ],
          "name": "stdout"
        }
      ]
    },
    {
      "cell_type": "code",
      "metadata": {
        "colab": {
          "base_uri": "https://localhost:8080/"
        },
        "id": "_0UlUW4Zw9CU",
        "outputId": "128eaa90-21bd-4b4e-ab8a-2626217b58c2"
      },
      "source": [
        "i = int(input('Digite o primeiro número: '))\n",
        "j = int(input('Digite o segundo número: '))\n",
        "\n",
        "soma = i + j\n",
        "\n",
        "print(f'A soma de {i} + {j} é igual a {soma}')\n"
      ],
      "execution_count": 7,
      "outputs": [
        {
          "output_type": "stream",
          "text": [
            "Digite o primeiro número: 3\n",
            "Digite o segundo número: 3\n",
            "A soma de 3 + 3 é igual a 6\n"
          ],
          "name": "stdout"
        }
      ]
    },
    {
      "cell_type": "code",
      "metadata": {
        "colab": {
          "base_uri": "https://localhost:8080/"
        },
        "id": "05otAkYayUyk",
        "outputId": "074c0a4b-f4f9-4810-fbce-65d5edeaa6f8"
      },
      "source": [
        "n1 = float(input('Digite a sua nota 1: '))\n",
        "n2 = float(input('Digite a sua nota 2: '))\n",
        "n3 = float(input('Digite a sua nota 3: '))\n",
        "n4 = float(input('Digite a sua nota 4: '))\n",
        "\n",
        "media = (n1 + n2 + n3+ n4) / 4\n",
        "\n",
        "print(f'A sua média é: {media:.2f}')"
      ],
      "execution_count": 11,
      "outputs": [
        {
          "output_type": "stream",
          "text": [
            "Digite a sua nota 1: 7.5\n",
            "Digite a sua nota 2: 6\n",
            "Digite a sua nota 3: 5.5\n",
            "Digite a sua nota 4: 10\n",
            "A sua média é: 7.25\n"
          ],
          "name": "stdout"
        }
      ]
    },
    {
      "cell_type": "code",
      "metadata": {
        "colab": {
          "base_uri": "https://localhost:8080/"
        },
        "id": "etjPoyfD1seG",
        "outputId": "4ec25be6-e397-4dd4-e765-40063a5e852b"
      },
      "source": [
        "v1 = float(input('Digite um valor inteiro: '))\n",
        "v2 = float(input(\"Digite outro valor inteiro: \"))\n",
        "\n",
        "print(v1 >= v2)\n"
      ],
      "execution_count": 12,
      "outputs": [
        {
          "output_type": "stream",
          "text": [
            "Digite um valor inteiro: 10\n",
            "Digite outro valor inteiro: 50\n",
            "False\n"
          ],
          "name": "stdout"
        }
      ]
    },
    {
      "cell_type": "code",
      "metadata": {
        "colab": {
          "base_uri": "https://localhost:8080/"
        },
        "id": "wsuqVZrk3rFX",
        "outputId": "90a09ca0-3720-49aa-8f92-288662e6be23"
      },
      "source": [
        "frase = 'Os limites só existem se você os deixar existir.(goku)'\n",
        "\n",
        "print(len(frase))\n",
        "\n",
        "print(frase[48:54])"
      ],
      "execution_count": 20,
      "outputs": [
        {
          "output_type": "stream",
          "text": [
            "54\n",
            "(goku)\n"
          ],
          "name": "stdout"
        }
      ]
    },
    {
      "cell_type": "code",
      "metadata": {
        "colab": {
          "base_uri": "https://localhost:8080/"
        },
        "id": "Z0yA-9OJ4nJH",
        "outputId": "63ade9b9-77be-498b-d37b-58a33ea2e469"
      },
      "source": [
        "frase = input('Digite uma frase: ').upper()\n",
        "\n",
        "print(frase.replace(' ',''))"
      ],
      "execution_count": 27,
      "outputs": [
        {
          "output_type": "stream",
          "text": [
            "Digite uma frase: vamos la que agora vai\n",
            "VAMOSLAQUEAGORAVAI\n"
          ],
          "name": "stdout"
        }
      ]
    }
  ]
}